{
 "cells": [
  {
   "cell_type": "code",
   "execution_count": 5,
   "id": "3e866121",
   "metadata": {},
   "outputs": [],
   "source": [
    "import pandas as pd\n",
    "import numpy as np\n",
    "import os\n",
    "import sklearn.pipeline\n",
    "from sklearn.model_selection import train_test_split\n",
    "from sklearn.feature_selection import SelectKBest\n",
    "from sklearn.svm import SVC\n",
    "import pickle\n",
    "\n",
    "\n",
    "def root_directory():\n",
    "    current_path = os.path.abspath('')\n",
    "    return os.path.abspath(os.path.join(current_path))\n",
    "def data_directory():\n",
    "    return os.path.join(root_directory(), \"data\")\n",
    "\n",
    "def load_train_set():\n",
    "    #Loading a hdf5 file is much much faster\n",
    "    in_file = os.path.join(data_directory(), \"final\",  \"train.json\")\n",
    "    return pd.read_json(in_file)\n",
    "def load_test_set():\n",
    "    #Loading a hdf5 file is much much faster\n",
    "    in_file = os.path.join(data_directory(), \"final\",  \"test.json\")\n",
    "    return pd.read_json(in_file)\n",
    "\n",
    "def simple_model_evaluation():\n",
    "    #select = SelectKBest(k=20)\n",
    "    train =load_train_set()\n",
    "    test = load_test_set()\n",
    "    target = 'condition'\n",
    "    hrv_features = list(train)\n",
    "    hrv_features = [x for x in hrv_features if x not in [target]]\n",
    "    X_train= train[hrv_features]\n",
    "    y_train= train[target]\n",
    "    X_test = test[hrv_features]\n",
    "    y_test = test[target]\n",
    "        \n",
    "    # Normalize the attribute values to mean=0 and variance=1\n",
    "    from sklearn.preprocessing import StandardScaler\n",
    "    scaler = StandardScaler()\n",
    "    scaler.fit(X_train)\n",
    "    X_train = scaler.transform(X_train)\n",
    "    X_test = scaler.transform(X_test)\n",
    "    \n",
    "\n",
    "    #steps = [('feature_selection', select),\n",
    "     #      ('model', SVC(C=80, gamma=0.1,\n",
    "      #                   kernel='rbf'))]\n",
    "    steps = [\n",
    "           ('model', SVC(C=80, gamma=0.1,\n",
    "                         kernel='rbf'))]\n",
    "    print(steps)\n",
    "    pipeline = sklearn.pipeline.Pipeline(steps)\n",
    "    pipeline.fit(X_train, y_train)\n",
    "    y_pred = pipeline.predict(X_test)\n",
    "    #pickle.dump(pipeline, open('model.pckl','wb'))\n",
    "    print(\"-------------------------------------------------------\")\n",
    "    print(sklearn.metrics.classification_report(y_test, y_pred))\n",
    "    print()\n",
    "    print()\n",
    "                \n",
    "\n",
    "    \n",
    "     \n",
    "\n",
    "    \n",
    "   \n",
    "\n",
    "\n",
    "   "
   ]
  },
  {
   "cell_type": "code",
   "execution_count": 6,
   "id": "5ecc802c",
   "metadata": {},
   "outputs": [
    {
     "name": "stdout",
     "output_type": "stream",
     "text": [
      "['MEAN_RR', 'MEDIAN_RR', 'SDRR', 'RMSSD', 'SDSD', 'SDRR_RMSSD', 'HR', 'pNN25', 'pNN50', 'SD1', 'SD2', 'KURT', 'SKEW', 'MEAN_REL_RR', 'MEDIAN_REL_RR', 'SDRR_REL_RR', 'RMSSD_REL_RR', 'SDSD_REL_RR', 'SDRR_RMSSD_REL_RR', 'KURT_REL_RR', 'SKEW_REL_RR', 'VLF', 'VLF_PCT', 'LF', 'LF_PCT', 'LF_NU', 'HF', 'HF_PCT', 'HF_NU', 'TP', 'LF_HF', 'HF_LF', 'sampen', 'higuci', 'datasetId', 'condition']\n",
      "[('model', SVC(C=80, gamma=0.1))]\n",
      "-------------------------------------------------------\n",
      "              precision    recall  f1-score   support\n",
      "\n",
      "   no stress       0.98      0.94      0.96       108\n",
      "    stressed       0.94      0.98      0.96        92\n",
      "\n",
      "    accuracy                           0.96       200\n",
      "   macro avg       0.96      0.96      0.96       200\n",
      "weighted avg       0.96      0.96      0.96       200\n",
      "\n",
      "\n",
      "\n"
     ]
    }
   ],
   "source": [
    "simple_model_evaluation()\n"
   ]
  },
  {
   "cell_type": "code",
   "execution_count": null,
   "id": "e0e77518",
   "metadata": {},
   "outputs": [],
   "source": []
  }
 ],
 "metadata": {
  "kernelspec": {
   "display_name": "Python 3",
   "language": "python",
   "name": "python3"
  },
  "language_info": {
   "codemirror_mode": {
    "name": "ipython",
    "version": 3
   },
   "file_extension": ".py",
   "mimetype": "text/x-python",
   "name": "python",
   "nbconvert_exporter": "python",
   "pygments_lexer": "ipython3",
   "version": "3.8.8"
  }
 },
 "nbformat": 4,
 "nbformat_minor": 5
}
