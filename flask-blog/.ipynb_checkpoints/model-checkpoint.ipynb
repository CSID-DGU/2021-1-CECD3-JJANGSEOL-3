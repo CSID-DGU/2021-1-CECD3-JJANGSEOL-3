{
 "cells": [
  {
   "cell_type": "code",
   "execution_count": 4,
   "id": "3e866121",
   "metadata": {},
   "outputs": [],
   "source": [
    "import pandas as pd\n",
    "import numpy as np\n",
    "import os\n",
    "import sklearn.pipeline\n",
    "from sklearn.model_selection import train_test_split\n",
    "from sklearn.feature_selection import SelectKBest\n",
    "from sklearn.svm import SVC\n",
    "import pickle\n",
    "\n",
    "\n",
    "def root_directory():\n",
    "    current_path = os.path.abspath('')\n",
    "    return os.path.abspath(os.path.join(current_path))\n",
    "def data_directory():\n",
    "    return os.path.join(root_directory(), \"data\")\n",
    "\n",
    "def load_train_set():\n",
    "    #Loading a hdf5 file is much much faster\n",
    "    in_file = os.path.join(data_directory(), \"final\",  \"train.csv\")\n",
    "    return pd.read_csv(in_file)\n",
    "def load_test_set():\n",
    "    #Loading a hdf5 file is much much faster\n",
    "    in_file = os.path.join(data_directory(), \"final\",  \"test.csv\")\n",
    "    return pd.read_csv(in_file)\n",
    "\n",
    "def simple_model_evaluation():\n",
    "    select = SelectKBest(k=20)\n",
    "    train =load_train_set()\n",
    "    test = load_test_set()\n",
    "    target = 'condition'\n",
    "    hrv_features = list(train)\n",
    "    hrv_features = [x for x in hrv_features if x not in [target]]\n",
    "    X_train= train[hrv_features]\n",
    "    y_train= train[target]\n",
    "    X_test = test[hrv_features]\n",
    "    y_test = test[target]\n",
    "        \n",
    "    # Normalize the attribute values to mean=0 and variance=1\n",
    "    from sklearn.preprocessing import StandardScaler\n",
    "    scaler = StandardScaler()\n",
    "    scaler.fit(X_train)\n",
    "    X_train = scaler.transform(X_train)\n",
    "    X_test = scaler.transform(X_test)\n",
    "    \n",
    "\n",
    "    steps = [('feature_selection', select),\n",
    "           ('model', SVC(C=80, gamma=0.1,\n",
    "                         kernel='rbf'))]\n",
    "    print(steps)\n",
    "    pipeline = sklearn.pipeline.Pipeline(steps)\n",
    "    pipeline.fit(X_train, y_train)\n",
    "    y_pred = pipeline.predict(X_test)\n",
    "    pickle.dump(pipeline, open('model.pkl','wb'))\n",
    "    print(\"-------------------------------------------------------\")\n",
    "    print(sklearn.metrics.classification_report(y_test, y_pred))\n",
    "    print()\n",
    "    print()\n",
    "                \n",
    "\n",
    "    \n",
    "     \n",
    "\n",
    "    \n",
    "   \n",
    "\n",
    "\n",
    "   "
   ]
  },
  {
   "cell_type": "code",
   "execution_count": 5,
   "id": "5ecc802c",
   "metadata": {},
   "outputs": [
    {
     "name": "stdout",
     "output_type": "stream",
     "text": [
      "[('feature_selection', SelectKBest(k=20)), ('model', SVC(C=80, gamma=0.1))]\n",
      "-------------------------------------------------------\n",
      "              precision    recall  f1-score   support\n",
      "\n",
      "   no stress       0.95      0.92      0.93       108\n",
      "    stressed       0.91      0.95      0.93        92\n",
      "\n",
      "    accuracy                           0.93       200\n",
      "   macro avg       0.93      0.93      0.93       200\n",
      "weighted avg       0.93      0.93      0.93       200\n",
      "\n",
      "\n",
      "\n"
     ]
    },
    {
     "name": "stderr",
     "output_type": "stream",
     "text": [
      "C:\\Users\\nss\\anaconda3\\lib\\site-packages\\sklearn\\feature_selection\\_univariate_selection.py:114: UserWarning: Features [34] are constant.\n",
      "  warnings.warn(\"Features %s are constant.\" % constant_features_idx,\n",
      "C:\\Users\\nss\\anaconda3\\lib\\site-packages\\sklearn\\feature_selection\\_univariate_selection.py:116: RuntimeWarning: invalid value encountered in true_divide\n",
      "  f = msb / msw\n"
     ]
    }
   ],
   "source": [
    "simple_model_evaluation()\n"
   ]
  },
  {
   "cell_type": "code",
   "execution_count": null,
   "id": "e0e77518",
   "metadata": {},
   "outputs": [],
   "source": []
  }
 ],
 "metadata": {
  "kernelspec": {
   "display_name": "Python 3",
   "language": "python",
   "name": "python3"
  },
  "language_info": {
   "codemirror_mode": {
    "name": "ipython",
    "version": 3
   },
   "file_extension": ".py",
   "mimetype": "text/x-python",
   "name": "python",
   "nbconvert_exporter": "python",
   "pygments_lexer": "ipython3",
   "version": "3.8.8"
  }
 },
 "nbformat": 4,
 "nbformat_minor": 5
}
